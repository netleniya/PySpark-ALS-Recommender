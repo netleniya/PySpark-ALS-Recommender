{
 "cells": [
  {
   "attachments": {},
   "cell_type": "markdown",
   "metadata": {},
   "source": [
    "# Spark\n"
   ]
  },
  {
   "cell_type": "code",
   "execution_count": 1,
   "metadata": {},
   "outputs": [],
   "source": [
    "import os\n",
    "import shutil\n",
    "\n",
    "from pyspark.sql import SparkSession\n",
    "from pyspark.sql import functions as F\n",
    "from pyspark.sql.types import IntegerType, StringType"
   ]
  },
  {
   "cell_type": "code",
   "execution_count": 2,
   "metadata": {},
   "outputs": [
    {
     "name": "stderr",
     "output_type": "stream",
     "text": [
      "Setting default log level to \"WARN\".\n",
      "To adjust logging level use sc.setLogLevel(newLevel). For SparkR, use setLogLevel(newLevel).\n",
      "23/04/17 12:04:05 WARN NativeCodeLoader: Unable to load native-hadoop library for your platform... using builtin-java classes where applicable\n"
     ]
    }
   ],
   "source": [
    "spark = (\n",
    "    SparkSession.builder.appName(\"Book Recommender\")\n",
    "    .config(\"spark.sql.repl.eagerEval.enabled\", True)\n",
    "    .config(\"spark.sql.repl.eagerEval.maxNumRows\", 10)\n",
    "    .config(\"spark.driver.memory\", \"4g\")\n",
    "    .getOrCreate()\n",
    ")\n"
   ]
  },
  {
   "cell_type": "code",
   "execution_count": 4,
   "metadata": {},
   "outputs": [
    {
     "name": "stderr",
     "output_type": "stream",
     "text": [
      "                                                                                \r"
     ]
    }
   ],
   "source": [
    "spark_df = spark.read.parquet(\"outputs/work_df\")"
   ]
  },
  {
   "cell_type": "code",
   "execution_count": 5,
   "metadata": {},
   "outputs": [
    {
     "name": "stdout",
     "output_type": "stream",
     "text": [
      "root\n",
      " |-- index: long (nullable = true)\n",
      " |-- userId: short (nullable = true)\n",
      " |-- bookId: short (nullable = true)\n",
      " |-- isbn13: long (nullable = true)\n",
      " |-- title: string (nullable = true)\n",
      " |-- language: string (nullable = true)\n",
      " |-- rating: long (nullable = true)\n",
      "\n"
     ]
    }
   ],
   "source": [
    "spark_df.printSchema()"
   ]
  },
  {
   "cell_type": "code",
   "execution_count": 6,
   "metadata": {},
   "outputs": [],
   "source": [
    "spark_df = spark_df.withColumns(\n",
    "    {\n",
    "        \"userId\": F.col(\"userId\").cast(IntegerType()),\n",
    "        \"bookId\": F.col(\"bookId\").cast(IntegerType()),\n",
    "        \"rating\": F.col(\"rating\").cast(IntegerType()),\n",
    "    }\n",
    ")\n"
   ]
  },
  {
   "cell_type": "code",
   "execution_count": 7,
   "metadata": {},
   "outputs": [
    {
     "name": "stdout",
     "output_type": "stream",
     "text": [
      "root\n",
      " |-- index: long (nullable = true)\n",
      " |-- userId: integer (nullable = true)\n",
      " |-- bookId: integer (nullable = true)\n",
      " |-- isbn13: long (nullable = true)\n",
      " |-- title: string (nullable = true)\n",
      " |-- language: string (nullable = true)\n",
      " |-- rating: integer (nullable = true)\n",
      "\n"
     ]
    }
   ],
   "source": [
    "spark_df.printSchema()"
   ]
  },
  {
   "cell_type": "code",
   "execution_count": 8,
   "metadata": {},
   "outputs": [
    {
     "name": "stderr",
     "output_type": "stream",
     "text": [
      "                                                                                \r"
     ]
    },
    {
     "data": {
      "text/html": [
       "<table border='1'>\n",
       "<tr><th>userId</th><th>bookId</th><th>rating</th></tr>\n",
       "<tr><td>179</td><td>2872</td><td>10</td></tr>\n",
       "<tr><td>277</td><td>2872</td><td>9</td></tr>\n",
       "<tr><td>358</td><td>2872</td><td>7</td></tr>\n",
       "<tr><td>382</td><td>2872</td><td>10</td></tr>\n",
       "<tr><td>585</td><td>2872</td><td>6</td></tr>\n",
       "<tr><td>611</td><td>2872</td><td>8</td></tr>\n",
       "<tr><td>638</td><td>2872</td><td>8</td></tr>\n",
       "<tr><td>648</td><td>2872</td><td>5</td></tr>\n",
       "<tr><td>1009</td><td>2872</td><td>8</td></tr>\n",
       "<tr><td>1024</td><td>2872</td><td>8</td></tr>\n",
       "</table>\n",
       "only showing top 10 rows\n"
      ],
      "text/plain": [
       "+------+------+------+\n",
       "|userId|bookId|rating|\n",
       "+------+------+------+\n",
       "|   179|  2872|    10|\n",
       "|   277|  2872|     9|\n",
       "|   358|  2872|     7|\n",
       "|   382|  2872|    10|\n",
       "|   585|  2872|     6|\n",
       "|   611|  2872|     8|\n",
       "|   638|  2872|     8|\n",
       "|   648|  2872|     5|\n",
       "|  1009|  2872|     8|\n",
       "|  1024|  2872|     8|\n",
       "+------+------+------+\n",
       "only showing top 10 rows"
      ]
     },
     "execution_count": 8,
     "metadata": {},
     "output_type": "execute_result"
    }
   ],
   "source": [
    "book_ratings = spark_df.select(\"userId\", \"bookId\", \"rating\")\n",
    "book_ratings"
   ]
  },
  {
   "attachments": {},
   "cell_type": "markdown",
   "metadata": {},
   "source": [
    "### Spark ML\n"
   ]
  },
  {
   "cell_type": "code",
   "execution_count": 9,
   "metadata": {},
   "outputs": [],
   "source": [
    "from pyspark.ml.tuning import ParamGridBuilder, CrossValidator\n",
    "from pyspark.ml.recommendation import ALS, ALSModel\n",
    "from pyspark.ml.evaluation import RegressionEvaluator"
   ]
  },
  {
   "attachments": {},
   "cell_type": "markdown",
   "metadata": {},
   "source": [
    "#### Train-Test Split\n"
   ]
  },
  {
   "cell_type": "code",
   "execution_count": 10,
   "metadata": {},
   "outputs": [],
   "source": [
    "(train, test) = book_ratings.randomSplit([0.8, 0.2], seed=42)"
   ]
  },
  {
   "attachments": {},
   "cell_type": "markdown",
   "metadata": {},
   "source": [
    "#### Simple ALS Model\n"
   ]
  },
  {
   "cell_type": "code",
   "execution_count": 11,
   "metadata": {},
   "outputs": [],
   "source": [
    "als = ALS(\n",
    "    userCol=\"userId\",\n",
    "    itemCol=\"bookId\",\n",
    "    ratingCol=\"rating\",\n",
    "    nonnegative=True,\n",
    "    coldStartStrategy=\"drop\",\n",
    "    seed=42,\n",
    ")\n"
   ]
  },
  {
   "cell_type": "code",
   "execution_count": 12,
   "metadata": {},
   "outputs": [],
   "source": [
    "evaluator = RegressionEvaluator(\n",
    "    metricName=\"rmse\", labelCol=\"rating\", predictionCol=\"prediction\"\n",
    ")\n"
   ]
  },
  {
   "cell_type": "code",
   "execution_count": 13,
   "metadata": {},
   "outputs": [
    {
     "name": "stderr",
     "output_type": "stream",
     "text": [
      "23/04/17 12:07:47 WARN InstanceBuilder: Failed to load implementation from:dev.ludovic.netlib.blas.JNIBLAS\n",
      "                                                                                \r"
     ]
    }
   ],
   "source": [
    "simple_model = als.fit(train)"
   ]
  },
  {
   "cell_type": "code",
   "execution_count": 14,
   "metadata": {},
   "outputs": [],
   "source": [
    "predictions = simple_model.transform(test)"
   ]
  },
  {
   "cell_type": "code",
   "execution_count": 15,
   "metadata": {},
   "outputs": [
    {
     "name": "stderr",
     "output_type": "stream",
     "text": [
      "                                                                                \r"
     ]
    },
    {
     "data": {
      "text/html": [
       "<table border='1'>\n",
       "<tr><th>userId</th><th>bookId</th><th>rating</th><th>prediction</th></tr>\n",
       "<tr><td>1395</td><td>6654</td><td>10</td><td>8.268562</td></tr>\n",
       "<tr><td>2563</td><td>463</td><td>7</td><td>8.162191</td></tr>\n",
       "<tr><td>2563</td><td>3749</td><td>8</td><td>6.869559</td></tr>\n",
       "<tr><td>1884</td><td>8389</td><td>10</td><td>7.128739</td></tr>\n",
       "<tr><td>5140</td><td>7982</td><td>6</td><td>5.1622477</td></tr>\n",
       "<tr><td>847</td><td>4519</td><td>7</td><td>8.53499</td></tr>\n",
       "<tr><td>5055</td><td>2366</td><td>8</td><td>5.5020676</td></tr>\n",
       "<tr><td>2463</td><td>2366</td><td>10</td><td>9.577781</td></tr>\n",
       "<tr><td>4443</td><td>5300</td><td>7</td><td>6.251077</td></tr>\n",
       "<tr><td>4230</td><td>8638</td><td>10</td><td>9.2928505</td></tr>\n",
       "</table>\n",
       "only showing top 10 rows\n"
      ],
      "text/plain": [
       "+------+------+------+----------+\n",
       "|userId|bookId|rating|prediction|\n",
       "+------+------+------+----------+\n",
       "|   148|  3473|    10| 10.002486|\n",
       "|   148|  5909|     7|  8.571875|\n",
       "|   463|   357|     8| 4.8718247|\n",
       "|   463|   867|     5| 8.3573065|\n",
       "|   471|  1290|    10|  8.063271|\n",
       "|   471|  6153|    10|  6.145279|\n",
       "|   496|  3655|     9|  9.084567|\n",
       "|   833|   915|     5| 6.2888594|\n",
       "|   833|  2056|     5|  4.594879|\n",
       "|  1088|  3760|     7| 7.8322515|\n",
       "+------+------+------+----------+\n",
       "only showing top 10 rows"
      ]
     },
     "execution_count": 15,
     "metadata": {},
     "output_type": "execute_result"
    }
   ],
   "source": [
    "predictions"
   ]
  },
  {
   "cell_type": "code",
   "execution_count": 16,
   "metadata": {},
   "outputs": [
    {
     "name": "stderr",
     "output_type": "stream",
     "text": [
      "                                                                                \r"
     ]
    },
    {
     "data": {
      "text/plain": [
       "1.8919501331030912"
      ]
     },
     "execution_count": 16,
     "metadata": {},
     "output_type": "execute_result"
    }
   ],
   "source": [
    "rmse = evaluator.evaluate(predictions)\n",
    "rmse"
   ]
  },
  {
   "cell_type": "code",
   "execution_count": 17,
   "metadata": {},
   "outputs": [],
   "source": [
    "param_grid = (\n",
    "    ParamGridBuilder()\n",
    "    .addGrid(als.maxIter, [5, 10])\n",
    "    .addGrid(als.rank, [3, 5, 10])\n",
    "    .addGrid(als.regParam, [0.1, 0.5])\n",
    "    .build()\n",
    ")\n"
   ]
  },
  {
   "cell_type": "code",
   "execution_count": 18,
   "metadata": {},
   "outputs": [
    {
     "name": "stdout",
     "output_type": "stream",
     "text": [
      "Num. Models: 12\n"
     ]
    }
   ],
   "source": [
    "print(f\"Num. Models: {len(param_grid)}\")"
   ]
  },
  {
   "cell_type": "code",
   "execution_count": 19,
   "metadata": {},
   "outputs": [],
   "source": [
    "cv = CrossValidator(\n",
    "    estimator=als,\n",
    "    estimatorParamMaps=param_grid,\n",
    "    evaluator=evaluator,\n",
    "    parallelism=4,\n",
    "    numFolds=3,\n",
    ")\n"
   ]
  },
  {
   "cell_type": "code",
   "execution_count": 20,
   "metadata": {},
   "outputs": [
    {
     "name": "stderr",
     "output_type": "stream",
     "text": [
      "23/04/17 12:08:24 WARN BlockManager: Block rdd_293_0 already exists on this machine; not re-adding it\n",
      "                                                                                \r"
     ]
    }
   ],
   "source": [
    "tuned_model = cv.fit(train)"
   ]
  },
  {
   "cell_type": "code",
   "execution_count": 21,
   "metadata": {},
   "outputs": [],
   "source": [
    "best_model = tuned_model.bestModel"
   ]
  },
  {
   "cell_type": "code",
   "execution_count": 22,
   "metadata": {},
   "outputs": [],
   "source": [
    "predictions_2 = best_model.transform(test)"
   ]
  },
  {
   "cell_type": "code",
   "execution_count": null,
   "metadata": {},
   "outputs": [
    {
     "data": {
      "text/html": [
       "<table border='1'>\n",
       "<tr><th>userId</th><th>bookId</th><th>rating</th><th>prediction</th></tr>\n",
       "<tr><td>1395</td><td>6654</td><td>10</td><td>5.2757545</td></tr>\n",
       "<tr><td>2563</td><td>463</td><td>7</td><td>6.8804245</td></tr>\n",
       "<tr><td>2563</td><td>3749</td><td>8</td><td>6.3984694</td></tr>\n",
       "<tr><td>1884</td><td>8389</td><td>10</td><td>7.8649216</td></tr>\n",
       "<tr><td>5140</td><td>7982</td><td>6</td><td>6.5331054</td></tr>\n",
       "<tr><td>847</td><td>4519</td><td>7</td><td>8.411961</td></tr>\n",
       "<tr><td>5055</td><td>2366</td><td>8</td><td>6.6758804</td></tr>\n",
       "<tr><td>2463</td><td>2366</td><td>10</td><td>8.322912</td></tr>\n",
       "<tr><td>4443</td><td>5300</td><td>7</td><td>6.313528</td></tr>\n",
       "<tr><td>4230</td><td>8638</td><td>10</td><td>7.664136</td></tr>\n",
       "</table>\n",
       "only showing top 10 rows\n"
      ],
      "text/plain": [
       "+------+------+------+----------+\n",
       "|userId|bookId|rating|prediction|\n",
       "+------+------+------+----------+\n",
       "|   148|  3473|    10|  8.294693|\n",
       "|   148|  5909|     7|  8.237921|\n",
       "|   463|   357|     8| 7.0357056|\n",
       "|   463|   867|     5| 7.6998167|\n",
       "|   471|  1290|    10|   8.99254|\n",
       "|   471|  6153|    10| 7.3729134|\n",
       "|   496|  3655|     9|  8.711693|\n",
       "|   833|   915|     5|  6.209361|\n",
       "|   833|  2056|     5| 5.2611794|\n",
       "|  1088|  3760|     7| 7.4855328|\n",
       "+------+------+------+----------+\n",
       "only showing top 10 rows"
      ]
     },
     "execution_count": 22,
     "metadata": {},
     "output_type": "execute_result"
    }
   ],
   "source": [
    "predictions_2"
   ]
  },
  {
   "cell_type": "code",
   "execution_count": 23,
   "metadata": {},
   "outputs": [
    {
     "name": "stderr",
     "output_type": "stream",
     "text": [
      "                                                                                \r"
     ]
    },
    {
     "data": {
      "text/plain": [
       "1.7229040610635111"
      ]
     },
     "execution_count": 23,
     "metadata": {},
     "output_type": "execute_result"
    }
   ],
   "source": [
    "rmse_2 = evaluator.evaluate(predictions_2)\n",
    "rmse_2"
   ]
  },
  {
   "cell_type": "code",
   "execution_count": 24,
   "metadata": {},
   "outputs": [
    {
     "data": {
      "text/plain": [
       "ALSModel: uid=ALS_eab784e17b3c, rank=3"
      ]
     },
     "execution_count": 24,
     "metadata": {},
     "output_type": "execute_result"
    }
   ],
   "source": [
    "best_model"
   ]
  },
  {
   "attachments": {},
   "cell_type": "markdown",
   "metadata": {},
   "source": [
    "## Save the model\n"
   ]
  },
  {
   "cell_type": "code",
   "execution_count": 25,
   "metadata": {},
   "outputs": [
    {
     "name": "stderr",
     "output_type": "stream",
     "text": [
      "                                                                                \r"
     ]
    }
   ],
   "source": [
    "if os.path.exists(\"alsrecommend.model\"):\n",
    "    shutil.rmtree(\"alsrecommend.model\")\n",
    "best_model.save(\"alsrecommend.model\")"
   ]
  },
  {
   "cell_type": "code",
   "execution_count": 26,
   "metadata": {},
   "outputs": [],
   "source": [
    "spark.stop()"
   ]
  },
  {
   "cell_type": "code",
   "execution_count": null,
   "metadata": {},
   "outputs": [],
   "source": []
  }
 ],
 "metadata": {
  "kernelspec": {
   "display_name": ".venv",
   "language": "python",
   "name": "python3"
  },
  "language_info": {
   "codemirror_mode": {
    "name": "ipython",
    "version": 3
   },
   "file_extension": ".py",
   "mimetype": "text/x-python",
   "name": "python",
   "nbconvert_exporter": "python",
   "pygments_lexer": "ipython3",
   "version": "3.11.3"
  },
  "orig_nbformat": 4
 },
 "nbformat": 4,
 "nbformat_minor": 2
}
