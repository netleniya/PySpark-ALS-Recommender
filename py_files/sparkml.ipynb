{
 "cells": [
  {
   "attachments": {},
   "cell_type": "markdown",
   "metadata": {},
   "source": [
    "# Spark\n"
   ]
  },
  {
   "cell_type": "code",
   "execution_count": 1,
   "metadata": {},
   "outputs": [],
   "source": [
    "import numpy as np\n",
    "\n",
    "from pyspark.sql import SparkSession\n",
    "from pyspark.sql import functions as F\n",
    "from pyspark.sql.types import IntegerType, StringType"
   ]
  },
  {
   "cell_type": "code",
   "execution_count": 2,
   "metadata": {},
   "outputs": [
    {
     "name": "stderr",
     "output_type": "stream",
     "text": [
      "Setting default log level to \"WARN\".\n",
      "To adjust logging level use sc.setLogLevel(newLevel). For SparkR, use setLogLevel(newLevel).\n",
      "23/04/16 00:49:25 WARN NativeCodeLoader: Unable to load native-hadoop library for your platform... using builtin-java classes where applicable\n"
     ]
    }
   ],
   "source": [
    "spark = SparkSession.builder \\\n",
    "        .appName(\"Book Recommender\") \\\n",
    "        .config(\"spark.sql.repl.eagerEval.enabled\", True) \\\n",
    "        .config(\"spark.sql.repl.eagerEval.maxNumRows\", 10) \\\n",
    "        .config(\"spark.driver.memory\", \"4g\") \\\n",
    "        .getOrCreate()"
   ]
  },
  {
   "cell_type": "code",
   "execution_count": 3,
   "metadata": {},
   "outputs": [],
   "source": [
    "spark_df = spark.read.parquet(\"work_df.parquet\")"
   ]
  },
  {
   "cell_type": "code",
   "execution_count": 4,
   "metadata": {},
   "outputs": [
    {
     "name": "stdout",
     "output_type": "stream",
     "text": [
      "root\n",
      " |-- userId: short (nullable = true)\n",
      " |-- bookId: short (nullable = true)\n",
      " |-- title: string (nullable = true)\n",
      " |-- language: string (nullable = true)\n",
      " |-- rating: long (nullable = true)\n",
      "\n"
     ]
    }
   ],
   "source": [
    "spark_df.printSchema()"
   ]
  },
  {
   "cell_type": "code",
   "execution_count": 5,
   "metadata": {},
   "outputs": [],
   "source": [
    "spark_df = spark_df.withColumns({\n",
    "    \"userId\": F.col(\"userId\").cast(IntegerType()), \n",
    "    \"bookId\" : F.col(\"bookId\").cast(IntegerType()), \n",
    "    \"rating\" : F.col(\"rating\").cast(IntegerType())\n",
    "    }\n",
    ")"
   ]
  },
  {
   "cell_type": "code",
   "execution_count": 6,
   "metadata": {},
   "outputs": [
    {
     "name": "stdout",
     "output_type": "stream",
     "text": [
      "root\n",
      " |-- userId: integer (nullable = true)\n",
      " |-- bookId: integer (nullable = true)\n",
      " |-- title: string (nullable = true)\n",
      " |-- language: string (nullable = true)\n",
      " |-- rating: integer (nullable = true)\n",
      "\n"
     ]
    }
   ],
   "source": [
    "spark_df.printSchema()"
   ]
  },
  {
   "cell_type": "code",
   "execution_count": 7,
   "metadata": {},
   "outputs": [
    {
     "data": {
      "text/html": [
       "<table border='1'>\n",
       "<tr><th>userId</th><th>bookId</th><th>rating</th></tr>\n",
       "<tr><td>179</td><td>2872</td><td>10</td></tr>\n",
       "<tr><td>277</td><td>2872</td><td>9</td></tr>\n",
       "<tr><td>358</td><td>2872</td><td>7</td></tr>\n",
       "<tr><td>382</td><td>2872</td><td>10</td></tr>\n",
       "<tr><td>585</td><td>2872</td><td>6</td></tr>\n",
       "<tr><td>611</td><td>2872</td><td>8</td></tr>\n",
       "<tr><td>638</td><td>2872</td><td>8</td></tr>\n",
       "<tr><td>648</td><td>2872</td><td>5</td></tr>\n",
       "<tr><td>1009</td><td>2872</td><td>8</td></tr>\n",
       "<tr><td>1024</td><td>2872</td><td>8</td></tr>\n",
       "</table>\n",
       "only showing top 10 rows\n"
      ],
      "text/plain": [
       "+------+------+------+\n",
       "|userId|bookId|rating|\n",
       "+------+------+------+\n",
       "|   179|  2872|    10|\n",
       "|   277|  2872|     9|\n",
       "|   358|  2872|     7|\n",
       "|   382|  2872|    10|\n",
       "|   585|  2872|     6|\n",
       "|   611|  2872|     8|\n",
       "|   638|  2872|     8|\n",
       "|   648|  2872|     5|\n",
       "|  1009|  2872|     8|\n",
       "|  1024|  2872|     8|\n",
       "+------+------+------+\n",
       "only showing top 10 rows"
      ]
     },
     "execution_count": 7,
     "metadata": {},
     "output_type": "execute_result"
    }
   ],
   "source": [
    "book_ratings = spark_df.select(\"userId\", \"bookId\", \"rating\")\n",
    "book_ratings"
   ]
  },
  {
   "attachments": {},
   "cell_type": "markdown",
   "metadata": {},
   "source": [
    "### Spark ML\n"
   ]
  },
  {
   "cell_type": "code",
   "execution_count": 8,
   "metadata": {},
   "outputs": [],
   "source": [
    "from pyspark.ml.tuning import ParamGridBuilder, CrossValidator\n",
    "from pyspark.ml.recommendation import ALS, ALSModel\n",
    "from pyspark.ml.evaluation import RegressionEvaluator"
   ]
  },
  {
   "attachments": {},
   "cell_type": "markdown",
   "metadata": {},
   "source": [
    "#### Train-Test Split\n"
   ]
  },
  {
   "cell_type": "code",
   "execution_count": 9,
   "metadata": {},
   "outputs": [],
   "source": [
    "(train, test) = book_ratings.randomSplit([0.8, 0.2], seed=42)"
   ]
  },
  {
   "attachments": {},
   "cell_type": "markdown",
   "metadata": {},
   "source": [
    "#### Simple ALS Model\n"
   ]
  },
  {
   "cell_type": "code",
   "execution_count": 10,
   "metadata": {},
   "outputs": [],
   "source": [
    "als = ALS(\n",
    "    userCol=\"userId\",\n",
    "    itemCol=\"bookId\",\n",
    "    ratingCol=\"rating\",\n",
    "    nonnegative=True,\n",
    "    coldStartStrategy=\"drop\",\n",
    "    seed=42\n",
    ")"
   ]
  },
  {
   "cell_type": "code",
   "execution_count": 11,
   "metadata": {},
   "outputs": [],
   "source": [
    "evaluator = RegressionEvaluator(metricName=\"rmse\", labelCol=\"rating\", predictionCol=\"prediction\")"
   ]
  },
  {
   "cell_type": "code",
   "execution_count": 12,
   "metadata": {},
   "outputs": [
    {
     "name": "stderr",
     "output_type": "stream",
     "text": [
      "23/04/16 00:49:30 WARN InstanceBuilder: Failed to load implementation from:dev.ludovic.netlib.blas.JNIBLAS\n"
     ]
    }
   ],
   "source": [
    "simple_model = als.fit(train)"
   ]
  },
  {
   "cell_type": "code",
   "execution_count": 13,
   "metadata": {},
   "outputs": [],
   "source": [
    "predictions = simple_model.transform(test)"
   ]
  },
  {
   "cell_type": "code",
   "execution_count": 14,
   "metadata": {},
   "outputs": [
    {
     "data": {
      "text/html": [
       "<table border='1'>\n",
       "<tr><th>userId</th><th>bookId</th><th>rating</th><th>prediction</th></tr>\n",
       "<tr><td>148</td><td>3473</td><td>10</td><td>10.002486</td></tr>\n",
       "<tr><td>148</td><td>5909</td><td>7</td><td>8.571875</td></tr>\n",
       "<tr><td>463</td><td>357</td><td>8</td><td>4.8718247</td></tr>\n",
       "<tr><td>463</td><td>867</td><td>5</td><td>8.3573065</td></tr>\n",
       "<tr><td>471</td><td>1290</td><td>10</td><td>8.063271</td></tr>\n",
       "<tr><td>471</td><td>6153</td><td>10</td><td>6.145279</td></tr>\n",
       "<tr><td>496</td><td>3655</td><td>9</td><td>9.084567</td></tr>\n",
       "<tr><td>833</td><td>915</td><td>5</td><td>6.2888594</td></tr>\n",
       "<tr><td>833</td><td>2056</td><td>5</td><td>4.594879</td></tr>\n",
       "<tr><td>1088</td><td>3760</td><td>7</td><td>7.8322515</td></tr>\n",
       "</table>\n",
       "only showing top 10 rows\n"
      ],
      "text/plain": [
       "+------+------+------+----------+\n",
       "|userId|bookId|rating|prediction|\n",
       "+------+------+------+----------+\n",
       "|   148|  3473|    10| 10.002486|\n",
       "|   148|  5909|     7|  8.571875|\n",
       "|   463|   357|     8| 4.8718247|\n",
       "|   463|   867|     5| 8.3573065|\n",
       "|   471|  1290|    10|  8.063271|\n",
       "|   471|  6153|    10|  6.145279|\n",
       "|   496|  3655|     9|  9.084567|\n",
       "|   833|   915|     5| 6.2888594|\n",
       "|   833|  2056|     5|  4.594879|\n",
       "|  1088|  3760|     7| 7.8322515|\n",
       "+------+------+------+----------+\n",
       "only showing top 10 rows"
      ]
     },
     "execution_count": 14,
     "metadata": {},
     "output_type": "execute_result"
    }
   ],
   "source": [
    "predictions"
   ]
  },
  {
   "cell_type": "code",
   "execution_count": 15,
   "metadata": {},
   "outputs": [
    {
     "data": {
      "text/plain": [
       "1.8919501331030917"
      ]
     },
     "execution_count": 15,
     "metadata": {},
     "output_type": "execute_result"
    }
   ],
   "source": [
    "rmse = evaluator.evaluate(predictions)\n",
    "rmse"
   ]
  },
  {
   "cell_type": "code",
   "execution_count": 16,
   "metadata": {},
   "outputs": [],
   "source": [
    "param_grid = ParamGridBuilder() \\\n",
    "            .addGrid(als.maxIter, [20, 30]) \\\n",
    "            .addGrid(als.rank, [1, 5]) \\\n",
    "            .addGrid(als.regParam, [0.1, 0.5]) \\\n",
    "            .build()"
   ]
  },
  {
   "cell_type": "code",
   "execution_count": 17,
   "metadata": {},
   "outputs": [
    {
     "name": "stdout",
     "output_type": "stream",
     "text": [
      "Num. Models: 8\n"
     ]
    }
   ],
   "source": [
    "print(f\"Num. Models: {len(param_grid)}\")"
   ]
  },
  {
   "cell_type": "code",
   "execution_count": 18,
   "metadata": {},
   "outputs": [],
   "source": [
    "cv = CrossValidator(\n",
    "    estimator=als,\n",
    "    estimatorParamMaps=param_grid,\n",
    "    evaluator=evaluator,\n",
    "    parallelism=4, numFolds=3\n",
    ")"
   ]
  },
  {
   "cell_type": "code",
   "execution_count": 19,
   "metadata": {},
   "outputs": [
    {
     "name": "stderr",
     "output_type": "stream",
     "text": [
      "                                                                                \r"
     ]
    }
   ],
   "source": [
    "tuned_model = cv.fit(train)"
   ]
  },
  {
   "cell_type": "code",
   "execution_count": 20,
   "metadata": {},
   "outputs": [],
   "source": [
    "best_model = tuned_model.bestModel"
   ]
  },
  {
   "cell_type": "code",
   "execution_count": 21,
   "metadata": {},
   "outputs": [],
   "source": [
    "predictions_2 = best_model.transform(test)"
   ]
  },
  {
   "cell_type": "code",
   "execution_count": 22,
   "metadata": {},
   "outputs": [
    {
     "data": {
      "text/html": [
       "<table border='1'>\n",
       "<tr><th>userId</th><th>bookId</th><th>rating</th><th>prediction</th></tr>\n",
       "<tr><td>1395</td><td>6654</td><td>10</td><td>7.1930575</td></tr>\n",
       "<tr><td>2563</td><td>463</td><td>7</td><td>7.2933846</td></tr>\n",
       "<tr><td>2563</td><td>3749</td><td>8</td><td>6.7506123</td></tr>\n",
       "<tr><td>1884</td><td>8389</td><td>10</td><td>8.389419</td></tr>\n",
       "<tr><td>5140</td><td>7982</td><td>6</td><td>7.2989945</td></tr>\n",
       "<tr><td>847</td><td>4519</td><td>7</td><td>8.884651</td></tr>\n",
       "<tr><td>5055</td><td>2366</td><td>8</td><td>7.163855</td></tr>\n",
       "<tr><td>2463</td><td>2366</td><td>10</td><td>8.956356</td></tr>\n",
       "<tr><td>4443</td><td>5300</td><td>7</td><td>6.60134</td></tr>\n",
       "<tr><td>4230</td><td>8638</td><td>10</td><td>8.017377</td></tr>\n",
       "</table>\n",
       "only showing top 10 rows\n"
      ],
      "text/plain": [
       "+------+------+------+----------+\n",
       "|userId|bookId|rating|prediction|\n",
       "+------+------+------+----------+\n",
       "|  1395|  6654|    10| 7.1930575|\n",
       "|  2563|   463|     7| 7.2933846|\n",
       "|  2563|  3749|     8| 6.7506123|\n",
       "|  1884|  8389|    10|  8.389419|\n",
       "|  5140|  7982|     6| 7.2989945|\n",
       "|   847|  4519|     7|  8.884651|\n",
       "|  5055|  2366|     8|  7.163855|\n",
       "|  2463|  2366|    10|  8.956356|\n",
       "|  4443|  5300|     7|   6.60134|\n",
       "|  4230|  8638|    10|  8.017377|\n",
       "+------+------+------+----------+\n",
       "only showing top 10 rows"
      ]
     },
     "execution_count": 22,
     "metadata": {},
     "output_type": "execute_result"
    }
   ],
   "source": [
    "predictions_2"
   ]
  },
  {
   "cell_type": "code",
   "execution_count": 23,
   "metadata": {},
   "outputs": [
    {
     "data": {
      "text/plain": [
       "1.6161660104670172"
      ]
     },
     "execution_count": 23,
     "metadata": {},
     "output_type": "execute_result"
    }
   ],
   "source": [
    "rmse_2 = evaluator.evaluate(predictions_2)\n",
    "rmse_2"
   ]
  },
  {
   "cell_type": "code",
   "execution_count": 24,
   "metadata": {},
   "outputs": [
    {
     "data": {
      "text/plain": [
       "ALSModel: uid=ALS_4d5b53655bd6, rank=1"
      ]
     },
     "execution_count": 24,
     "metadata": {},
     "output_type": "execute_result"
    }
   ],
   "source": [
    "best_model"
   ]
  },
  {
   "attachments": {},
   "cell_type": "markdown",
   "metadata": {},
   "source": [
    "## Save the model"
   ]
  },
  {
   "cell_type": "code",
   "execution_count": 25,
   "metadata": {},
   "outputs": [],
   "source": [
    "best_model.save(\"alsrecommend.model\")"
   ]
  },
  {
   "cell_type": "code",
   "execution_count": 26,
   "metadata": {},
   "outputs": [],
   "source": [
    "spark.stop()"
   ]
  },
  {
   "cell_type": "code",
   "execution_count": null,
   "metadata": {},
   "outputs": [],
   "source": []
  }
 ],
 "metadata": {
  "kernelspec": {
   "display_name": ".venv",
   "language": "python",
   "name": "python3"
  },
  "language_info": {
   "codemirror_mode": {
    "name": "ipython",
    "version": 3
   },
   "file_extension": ".py",
   "mimetype": "text/x-python",
   "name": "python",
   "nbconvert_exporter": "python",
   "pygments_lexer": "ipython3",
   "version": "3.10.6"
  },
  "orig_nbformat": 4
 },
 "nbformat": 4,
 "nbformat_minor": 2
}
