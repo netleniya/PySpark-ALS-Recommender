{
 "cells": [
  {
   "attachments": {},
   "cell_type": "markdown",
   "metadata": {},
   "source": [
    "# Spark\n"
   ]
  },
  {
   "cell_type": "code",
   "execution_count": 3,
   "metadata": {},
   "outputs": [],
   "source": [
    "from pyspark.sql import SparkSession\n",
    "from pyspark.sql import functions as F\n",
    "from pyspark.sql.types import IntegerType, StringType"
   ]
  },
  {
   "cell_type": "code",
   "execution_count": 4,
   "metadata": {},
   "outputs": [],
   "source": [
    "spark = SparkSession.builder \\\n",
    "        .appName(\"Book Recommender\") \\\n",
    "        .config(\"spark.sql.repl.eagerEval.enabled\", True) \\\n",
    "        .config(\"spark.sql.repl.eagerEval.maxNumRows\", 10) \\\n",
    "        .config(\"spark.driver.memory\", \"4g\") \\\n",
    "        .getOrCreate()"
   ]
  },
  {
   "cell_type": "code",
   "execution_count": 5,
   "metadata": {},
   "outputs": [
    {
     "name": "stderr",
     "output_type": "stream",
     "text": [
      "                                                                                \r"
     ]
    }
   ],
   "source": [
    "spark_df = spark.read.parquet(\"work_df.parquet\")"
   ]
  },
  {
   "cell_type": "code",
   "execution_count": 6,
   "metadata": {},
   "outputs": [
    {
     "name": "stdout",
     "output_type": "stream",
     "text": [
      "root\n",
      " |-- userId: short (nullable = true)\n",
      " |-- bookId: short (nullable = true)\n",
      " |-- title: string (nullable = true)\n",
      " |-- language: string (nullable = true)\n",
      " |-- rating: long (nullable = true)\n",
      "\n"
     ]
    }
   ],
   "source": [
    "spark_df.printSchema()"
   ]
  },
  {
   "cell_type": "code",
   "execution_count": 9,
   "metadata": {},
   "outputs": [],
   "source": [
    "spark_df = spark_df.withColumns({\n",
    "    \"userId\": F.col(\"userId\").cast(IntegerType()), \n",
    "    \"bookId\" : F.col(\"bookId\").cast(IntegerType()), \n",
    "    \"rating\" : F.col(\"rating\").cast(IntegerType())\n",
    "    }\n",
    ")"
   ]
  },
  {
   "cell_type": "code",
   "execution_count": 10,
   "metadata": {},
   "outputs": [
    {
     "name": "stdout",
     "output_type": "stream",
     "text": [
      "root\n",
      " |-- userId: integer (nullable = true)\n",
      " |-- bookId: integer (nullable = true)\n",
      " |-- title: string (nullable = true)\n",
      " |-- language: string (nullable = true)\n",
      " |-- rating: integer (nullable = true)\n",
      "\n"
     ]
    }
   ],
   "source": [
    "spark_df.printSchema()"
   ]
  },
  {
   "cell_type": "code",
   "execution_count": 13,
   "metadata": {},
   "outputs": [
    {
     "name": "stderr",
     "output_type": "stream",
     "text": [
      "                                                                                \r"
     ]
    },
    {
     "data": {
      "text/html": [
       "<table border='1'>\n",
       "<tr><th>userId</th><th>bookId</th><th>rating</th></tr>\n",
       "<tr><td>179</td><td>2872</td><td>10</td></tr>\n",
       "<tr><td>277</td><td>2872</td><td>9</td></tr>\n",
       "<tr><td>358</td><td>2872</td><td>7</td></tr>\n",
       "<tr><td>382</td><td>2872</td><td>10</td></tr>\n",
       "<tr><td>585</td><td>2872</td><td>6</td></tr>\n",
       "<tr><td>611</td><td>2872</td><td>8</td></tr>\n",
       "<tr><td>638</td><td>2872</td><td>8</td></tr>\n",
       "<tr><td>648</td><td>2872</td><td>5</td></tr>\n",
       "<tr><td>1009</td><td>2872</td><td>8</td></tr>\n",
       "<tr><td>1024</td><td>2872</td><td>8</td></tr>\n",
       "</table>\n",
       "only showing top 10 rows\n"
      ],
      "text/plain": [
       "+------+------+------+\n",
       "|userId|bookId|rating|\n",
       "+------+------+------+\n",
       "|   179|  2872|    10|\n",
       "|   277|  2872|     9|\n",
       "|   358|  2872|     7|\n",
       "|   382|  2872|    10|\n",
       "|   585|  2872|     6|\n",
       "|   611|  2872|     8|\n",
       "|   638|  2872|     8|\n",
       "|   648|  2872|     5|\n",
       "|  1009|  2872|     8|\n",
       "|  1024|  2872|     8|\n",
       "+------+------+------+\n",
       "only showing top 10 rows"
      ]
     },
     "execution_count": 13,
     "metadata": {},
     "output_type": "execute_result"
    }
   ],
   "source": [
    "book_ratings = spark_df.select(\"userId\", \"bookId\", \"rating\")\n",
    "book_ratings"
   ]
  },
  {
   "attachments": {},
   "cell_type": "markdown",
   "metadata": {},
   "source": [
    "### Spark ML\n"
   ]
  },
  {
   "cell_type": "code",
   "execution_count": 14,
   "metadata": {},
   "outputs": [],
   "source": [
    "from pyspark.ml.tuning import ParamGridBuilder, CrossValidator\n",
    "from pyspark.ml.recommendation import ALS, ALSModel\n",
    "from pyspark.ml.evaluation import RegressionEvaluator"
   ]
  },
  {
   "attachments": {},
   "cell_type": "markdown",
   "metadata": {},
   "source": [
    "#### Train-Test Split\n"
   ]
  },
  {
   "cell_type": "code",
   "execution_count": 15,
   "metadata": {},
   "outputs": [],
   "source": [
    "(train, tesst) = book_ratings.randomSplit([0.8, 0.2], seed=42)"
   ]
  },
  {
   "attachments": {},
   "cell_type": "markdown",
   "metadata": {},
   "source": [
    "#### Simple ALS Model\n"
   ]
  },
  {
   "cell_type": "code",
   "execution_count": 16,
   "metadata": {},
   "outputs": [],
   "source": [
    "als = ALS(\n",
    "    userCol=\"userId\",\n",
    "    itemCol=\"bookId\",\n",
    "    ratingCol=\"rating\",\n",
    "    nonnegative=True,\n",
    "    coldStartStrategy=\"drop\",\n",
    "    seed=42\n",
    ")"
   ]
  },
  {
   "cell_type": "code",
   "execution_count": 17,
   "metadata": {},
   "outputs": [],
   "source": [
    "evaluator = RegressionEvaluator(metricName=\"rmse\", labelCol=\"rating\", predictionCol=\"prediction\")"
   ]
  },
  {
   "cell_type": "code",
   "execution_count": null,
   "metadata": {},
   "outputs": [],
   "source": []
  }
 ],
 "metadata": {
  "kernelspec": {
   "display_name": ".venv",
   "language": "python",
   "name": "python3"
  },
  "language_info": {
   "codemirror_mode": {
    "name": "ipython",
    "version": 3
   },
   "file_extension": ".py",
   "mimetype": "text/x-python",
   "name": "python",
   "nbconvert_exporter": "python",
   "pygments_lexer": "ipython3",
   "version": "3.11.3"
  },
  "orig_nbformat": 4
 },
 "nbformat": 4,
 "nbformat_minor": 2
}
