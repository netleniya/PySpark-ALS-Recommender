{
 "cells": [
  {
   "attachments": {},
   "cell_type": "markdown",
   "metadata": {},
   "source": [
    "# Dask\n"
   ]
  },
  {
   "cell_type": "code",
   "execution_count": 1,
   "metadata": {},
   "outputs": [],
   "source": [
    "import os\n",
    "import dask.dataframe as ddf\n",
    "\n",
    "from dask.distributed import LocalCluster, Client\n"
   ]
  },
  {
   "cell_type": "code",
   "execution_count": 2,
   "metadata": {},
   "outputs": [
    {
     "name": "stderr",
     "output_type": "stream",
     "text": [
      "2023-04-15 23:25:52,985 - distributed.diskutils - INFO - Found stale lock file and directory '/var/folders/nz/x__q51715jq8gmxrvzgvjyhw0000gn/T/dask-worker-space/worker-hwe5ajo1', purging\n",
      "2023-04-15 23:25:52,986 - distributed.diskutils - INFO - Found stale lock file and directory '/var/folders/nz/x__q51715jq8gmxrvzgvjyhw0000gn/T/dask-worker-space/worker-xmqjogts', purging\n",
      "2023-04-15 23:25:52,986 - distributed.diskutils - INFO - Found stale lock file and directory '/var/folders/nz/x__q51715jq8gmxrvzgvjyhw0000gn/T/dask-worker-space/worker-vurbxn_i', purging\n",
      "2023-04-15 23:25:52,987 - distributed.diskutils - INFO - Found stale lock file and directory '/var/folders/nz/x__q51715jq8gmxrvzgvjyhw0000gn/T/dask-worker-space/worker-50cg626i', purging\n"
     ]
    }
   ],
   "source": [
    "cluster = LocalCluster()\n",
    "client = Client(cluster)\n"
   ]
  },
  {
   "cell_type": "code",
   "execution_count": 2,
   "metadata": {},
   "outputs": [],
   "source": [
    "file_lst = [\n",
    "    file.path\n",
    "    for file in os.scandir(\"../dossier/\")\n",
    "    if file.is_file() and file.path.endswith(\".csv\")\n",
    "]"
   ]
  },
  {
   "cell_type": "code",
   "execution_count": 4,
   "metadata": {},
   "outputs": [],
   "source": [
    "def read_files(files_list: list, **kwargs) -> ddf:\n",
    "    \"\"\"Read multiple files into a Dask DataFrame\n",
    "\n",
    "    Args:\n",
    "        files_list (list): List of files to read\n",
    "\n",
    "    Returns:\n",
    "        ddf: Delayed Dask DataFrame object\n",
    "    \"\"\"\n",
    "    return ddf.read_csv(files_list, **kwargs)"
   ]
  },
  {
   "cell_type": "code",
   "execution_count": 5,
   "metadata": {},
   "outputs": [],
   "source": [
    "delayed_obj = read_files(\n",
    "    files_list=file_lst,\n",
    "    usecols=[\"isbn\", \"isbn13\", \"title\", \"authors\", \"language\", \"publisher\"],\n",
    "    dtype={\"isbn\": \"object\"},\n",
    ")"
   ]
  },
  {
   "cell_type": "code",
   "execution_count": 6,
   "metadata": {},
   "outputs": [],
   "source": [
    "books = delayed_obj.compute()\n"
   ]
  },
  {
   "cell_type": "code",
   "execution_count": 7,
   "metadata": {},
   "outputs": [
    {
     "name": "stdout",
     "output_type": "stream",
     "text": [
      "<class 'pandas.core.frame.DataFrame'>\n",
      "Index: 271197 entries, 0 to 49967\n",
      "Data columns (total 6 columns):\n",
      " #   Column     Non-Null Count   Dtype \n",
      "---  ------     --------------   ----- \n",
      " 0   publisher  270950 non-null  object\n",
      " 1   language   271190 non-null  object\n",
      " 2   authors    271175 non-null  object\n",
      " 3   title      271195 non-null  object\n",
      " 4   isbn13     271197 non-null  int64 \n",
      " 5   isbn       271197 non-null  object\n",
      "dtypes: int64(1), object(5)\n",
      "memory usage: 14.5+ MB\n"
     ]
    }
   ],
   "source": [
    "books.info()\n"
   ]
  },
  {
   "cell_type": "code",
   "execution_count": 8,
   "metadata": {},
   "outputs": [
    {
     "data": {
      "text/html": [
       "<div>\n",
       "<style scoped>\n",
       "    .dataframe tbody tr th:only-of-type {\n",
       "        vertical-align: middle;\n",
       "    }\n",
       "\n",
       "    .dataframe tbody tr th {\n",
       "        vertical-align: top;\n",
       "    }\n",
       "\n",
       "    .dataframe thead th {\n",
       "        text-align: right;\n",
       "    }\n",
       "</style>\n",
       "<table border=\"1\" class=\"dataframe\">\n",
       "  <thead>\n",
       "    <tr style=\"text-align: right;\">\n",
       "      <th></th>\n",
       "      <th>publisher</th>\n",
       "      <th>language</th>\n",
       "      <th>authors</th>\n",
       "      <th>title</th>\n",
       "      <th>isbn13</th>\n",
       "      <th>isbn</th>\n",
       "    </tr>\n",
       "  </thead>\n",
       "  <tbody>\n",
       "    <tr>\n",
       "      <th>0</th>\n",
       "      <td>Fischer (Tb.), Frankfurt</td>\n",
       "      <td>de</td>\n",
       "      <td>['Gordimer, Nadine']</td>\n",
       "      <td>Clowns im Glück. Erzählungen.</td>\n",
       "      <td>9783596257225</td>\n",
       "      <td>3596257220</td>\n",
       "    </tr>\n",
       "    <tr>\n",
       "      <th>1</th>\n",
       "      <td>Doubleday</td>\n",
       "      <td>en</td>\n",
       "      <td>['Liddell, Felix H.']</td>\n",
       "      <td>I Hear a Symphony</td>\n",
       "      <td>9780385475020</td>\n",
       "      <td>0385475020</td>\n",
       "    </tr>\n",
       "  </tbody>\n",
       "</table>\n",
       "</div>"
      ],
      "text/plain": [
       "                  publisher language                authors   \n",
       "0  Fischer (Tb.), Frankfurt       de   ['Gordimer, Nadine']  \\\n",
       "1                 Doubleday       en  ['Liddell, Felix H.']   \n",
       "\n",
       "                           title         isbn13        isbn  \n",
       "0  Clowns im Glück. Erzählungen.  9783596257225  3596257220  \n",
       "1              I Hear a Symphony  9780385475020  0385475020  "
      ]
     },
     "execution_count": 8,
     "metadata": {},
     "output_type": "execute_result"
    }
   ],
   "source": [
    "books.head(2)\n"
   ]
  },
  {
   "cell_type": "code",
   "execution_count": 9,
   "metadata": {},
   "outputs": [
    {
     "data": {
      "text/plain": [
       "publisher    247\n",
       "language       7\n",
       "authors       22\n",
       "title          2\n",
       "isbn13         0\n",
       "isbn           0\n",
       "dtype: int64"
      ]
     },
     "execution_count": 9,
     "metadata": {},
     "output_type": "execute_result"
    }
   ],
   "source": [
    "books.isnull().sum()\n"
   ]
  },
  {
   "cell_type": "code",
   "execution_count": 10,
   "metadata": {},
   "outputs": [],
   "source": [
    "books = books.dropna(subset=[\"publisher\", \"language\", \"authors\", \"title\"])\n"
   ]
  },
  {
   "cell_type": "code",
   "execution_count": 11,
   "metadata": {},
   "outputs": [],
   "source": [
    "ratings = ddf.read_csv(\"../archive/Ratings.csv\").compute()\n"
   ]
  },
  {
   "cell_type": "code",
   "execution_count": 12,
   "metadata": {},
   "outputs": [
    {
     "name": "stdout",
     "output_type": "stream",
     "text": [
      "<class 'pandas.core.frame.DataFrame'>\n",
      "RangeIndex: 1149780 entries, 0 to 1149779\n",
      "Data columns (total 3 columns):\n",
      " #   Column       Non-Null Count    Dtype \n",
      "---  ------       --------------    ----- \n",
      " 0   User-ID      1149780 non-null  int64 \n",
      " 1   ISBN         1149780 non-null  object\n",
      " 2   Book-Rating  1149780 non-null  int64 \n",
      "dtypes: int64(2), object(1)\n",
      "memory usage: 26.3+ MB\n"
     ]
    }
   ],
   "source": [
    "ratings.info()\n"
   ]
  },
  {
   "cell_type": "code",
   "execution_count": 13,
   "metadata": {},
   "outputs": [],
   "source": [
    "ratings.columns = ratings.columns.str.replace(\"-\", \"_\").str.lower()"
   ]
  },
  {
   "cell_type": "code",
   "execution_count": 14,
   "metadata": {},
   "outputs": [
    {
     "data": {
      "text/html": [
       "<div>\n",
       "<style scoped>\n",
       "    .dataframe tbody tr th:only-of-type {\n",
       "        vertical-align: middle;\n",
       "    }\n",
       "\n",
       "    .dataframe tbody tr th {\n",
       "        vertical-align: top;\n",
       "    }\n",
       "\n",
       "    .dataframe thead th {\n",
       "        text-align: right;\n",
       "    }\n",
       "</style>\n",
       "<table border=\"1\" class=\"dataframe\">\n",
       "  <thead>\n",
       "    <tr style=\"text-align: right;\">\n",
       "      <th></th>\n",
       "      <th>user_id</th>\n",
       "      <th>isbn</th>\n",
       "      <th>book_rating</th>\n",
       "    </tr>\n",
       "  </thead>\n",
       "  <tbody>\n",
       "    <tr>\n",
       "      <th>0</th>\n",
       "      <td>276725</td>\n",
       "      <td>034545104X</td>\n",
       "      <td>0</td>\n",
       "    </tr>\n",
       "    <tr>\n",
       "      <th>1</th>\n",
       "      <td>276726</td>\n",
       "      <td>0155061224</td>\n",
       "      <td>5</td>\n",
       "    </tr>\n",
       "  </tbody>\n",
       "</table>\n",
       "</div>"
      ],
      "text/plain": [
       "   user_id        isbn  book_rating\n",
       "0   276725  034545104X            0\n",
       "1   276726  0155061224            5"
      ]
     },
     "execution_count": 14,
     "metadata": {},
     "output_type": "execute_result"
    }
   ],
   "source": [
    "ratings.head(2)\n"
   ]
  },
  {
   "attachments": {},
   "cell_type": "markdown",
   "metadata": {},
   "source": [
    "### Most Popular items\n"
   ]
  },
  {
   "cell_type": "code",
   "execution_count": 15,
   "metadata": {},
   "outputs": [
    {
     "data": {
      "text/plain": [
       "title                                                                              \n",
       "The Secret Garden                                                                      22\n",
       "Little Women                                                                           19\n",
       "Dracula                                                                                18\n",
       "The Night Before Christmas                                                             18\n",
       "The Hobbit                                                                             17\n",
       "                                                                                       ..\n",
       "History Channel Presents The Real Scorpion King (The History Channel Presents)          1\n",
       "History Channel: Haunted History (The History Channel Presents)                         1\n",
       "History Channel: History's Mysteries: Dead, Doomed And Buried                           1\n",
       "History Channel: Modern Marvels: Inventions That Rocked The World (History Channel)     1\n",
       "万历十五年                                                                                   1\n",
       "Name: count, Length: 242085, dtype: int64"
      ]
     },
     "execution_count": 15,
     "metadata": {},
     "output_type": "execute_result"
    }
   ],
   "source": [
    "books[[\"title\"]].value_counts()\n"
   ]
  },
  {
   "cell_type": "code",
   "execution_count": 16,
   "metadata": {},
   "outputs": [],
   "source": [
    "explicit_rating = ratings.query(\"book_rating != 0\")\n"
   ]
  },
  {
   "attachments": {},
   "cell_type": "markdown",
   "metadata": {},
   "source": [
    "#### Merge into books dataframe\n"
   ]
  },
  {
   "cell_type": "code",
   "execution_count": 17,
   "metadata": {},
   "outputs": [],
   "source": [
    "ratings_books = explicit_rating.merge(books, on=[\"isbn\"])\n"
   ]
  },
  {
   "cell_type": "code",
   "execution_count": 18,
   "metadata": {},
   "outputs": [
    {
     "data": {
      "text/html": [
       "<div>\n",
       "<style scoped>\n",
       "    .dataframe tbody tr th:only-of-type {\n",
       "        vertical-align: middle;\n",
       "    }\n",
       "\n",
       "    .dataframe tbody tr th {\n",
       "        vertical-align: top;\n",
       "    }\n",
       "\n",
       "    .dataframe thead th {\n",
       "        text-align: right;\n",
       "    }\n",
       "</style>\n",
       "<table border=\"1\" class=\"dataframe\">\n",
       "  <thead>\n",
       "    <tr style=\"text-align: right;\">\n",
       "      <th></th>\n",
       "      <th>user_id</th>\n",
       "      <th>isbn</th>\n",
       "      <th>book_rating</th>\n",
       "      <th>publisher</th>\n",
       "      <th>language</th>\n",
       "      <th>authors</th>\n",
       "      <th>title</th>\n",
       "      <th>isbn13</th>\n",
       "    </tr>\n",
       "  </thead>\n",
       "  <tbody>\n",
       "    <tr>\n",
       "      <th>0</th>\n",
       "      <td>276726</td>\n",
       "      <td>0155061224</td>\n",
       "      <td>5</td>\n",
       "      <td>Wadsworth Publishing</td>\n",
       "      <td>en</td>\n",
       "      <td>['Rae, Judith']</td>\n",
       "      <td>Rites of Passage</td>\n",
       "      <td>9780155061224</td>\n",
       "    </tr>\n",
       "    <tr>\n",
       "      <th>1</th>\n",
       "      <td>276729</td>\n",
       "      <td>052165615X</td>\n",
       "      <td>3</td>\n",
       "      <td>Cambridge University Press</td>\n",
       "      <td>en</td>\n",
       "      <td>['Prowse, Philip']</td>\n",
       "      <td>Help! Level 1 (Cambridge English Readers)</td>\n",
       "      <td>9780521656153</td>\n",
       "    </tr>\n",
       "  </tbody>\n",
       "</table>\n",
       "</div>"
      ],
      "text/plain": [
       "   user_id        isbn  book_rating                   publisher language   \n",
       "0   276726  0155061224            5        Wadsworth Publishing       en  \\\n",
       "1   276729  052165615X            3  Cambridge University Press       en   \n",
       "\n",
       "              authors                                      title   \n",
       "0     ['Rae, Judith']                           Rites of Passage  \\\n",
       "1  ['Prowse, Philip']  Help! Level 1 (Cambridge English Readers)   \n",
       "\n",
       "          isbn13  \n",
       "0  9780155061224  \n",
       "1  9780521656153  "
      ]
     },
     "execution_count": 18,
     "metadata": {},
     "output_type": "execute_result"
    }
   ],
   "source": [
    "ratings_books.head(2)\n"
   ]
  },
  {
   "attachments": {},
   "cell_type": "markdown",
   "metadata": {},
   "source": [
    "Get rid of the `ISBN` column, and keep the `ISBN13` column in its stead\n"
   ]
  },
  {
   "cell_type": "code",
   "execution_count": 19,
   "metadata": {},
   "outputs": [],
   "source": [
    "ratings_books = ratings_books.loc[\n",
    "    :, [\"user_id\", \"isbn13\", \"title\", \"authors\", \"publisher\", \"language\", \"book_rating\"]\n",
    "]"
   ]
  },
  {
   "attachments": {},
   "cell_type": "markdown",
   "metadata": {},
   "source": [
    "### Most liked items\n",
    "\n",
    "Find the most popular books ranked by their average rating\n"
   ]
  },
  {
   "cell_type": "code",
   "execution_count": 20,
   "metadata": {},
   "outputs": [
    {
     "data": {
      "text/html": [
       "<div>\n",
       "<style scoped>\n",
       "    .dataframe tbody tr th:only-of-type {\n",
       "        vertical-align: middle;\n",
       "    }\n",
       "\n",
       "    .dataframe tbody tr th {\n",
       "        vertical-align: top;\n",
       "    }\n",
       "\n",
       "    .dataframe thead th {\n",
       "        text-align: right;\n",
       "    }\n",
       "</style>\n",
       "<table border=\"1\" class=\"dataframe\">\n",
       "  <thead>\n",
       "    <tr style=\"text-align: right;\">\n",
       "      <th></th>\n",
       "      <th>title</th>\n",
       "      <th>book_rating</th>\n",
       "    </tr>\n",
       "  </thead>\n",
       "  <tbody>\n",
       "    <tr>\n",
       "      <th>0</th>\n",
       "      <td>Molly's Surprise: A Christmas Story, Book Thre...</td>\n",
       "      <td>10.0</td>\n",
       "    </tr>\n",
       "    <tr>\n",
       "      <th>1</th>\n",
       "      <td>The Art Of Playing Mythos The Cthulhu Collecta...</td>\n",
       "      <td>10.0</td>\n",
       "    </tr>\n",
       "    <tr>\n",
       "      <th>2</th>\n",
       "      <td>The Archaic Revival: Speculations on Psychedel...</td>\n",
       "      <td>10.0</td>\n",
       "    </tr>\n",
       "    <tr>\n",
       "      <th>3</th>\n",
       "      <td>The Archer King</td>\n",
       "      <td>10.0</td>\n",
       "    </tr>\n",
       "    <tr>\n",
       "      <th>4</th>\n",
       "      <td>The Architects of Hyperspace</td>\n",
       "      <td>10.0</td>\n",
       "    </tr>\n",
       "    <tr>\n",
       "      <th>...</th>\n",
       "      <td>...</td>\n",
       "      <td>...</td>\n",
       "    </tr>\n",
       "    <tr>\n",
       "      <th>135999</th>\n",
       "      <td>The New Beverly Hills Diet: The latest weight-...</td>\n",
       "      <td>1.0</td>\n",
       "    </tr>\n",
       "    <tr>\n",
       "      <th>136000</th>\n",
       "      <td>Let's Go 2000: Europe: The World's Bestselling...</td>\n",
       "      <td>1.0</td>\n",
       "    </tr>\n",
       "    <tr>\n",
       "      <th>136001</th>\n",
       "      <td>Rencontre au bord du fleuve</td>\n",
       "      <td>1.0</td>\n",
       "    </tr>\n",
       "    <tr>\n",
       "      <th>136002</th>\n",
       "      <td>Honey for a Child's Heart: The Imaginative Use...</td>\n",
       "      <td>1.0</td>\n",
       "    </tr>\n",
       "    <tr>\n",
       "      <th>136003</th>\n",
       "      <td>I Hate the Dallas Cowboys: And Who Elected The...</td>\n",
       "      <td>1.0</td>\n",
       "    </tr>\n",
       "  </tbody>\n",
       "</table>\n",
       "<p>136004 rows × 2 columns</p>\n",
       "</div>"
      ],
      "text/plain": [
       "                                                    title  book_rating\n",
       "0       Molly's Surprise: A Christmas Story, Book Thre...         10.0\n",
       "1       The Art Of Playing Mythos The Cthulhu Collecta...         10.0\n",
       "2       The Archaic Revival: Speculations on Psychedel...         10.0\n",
       "3                                         The Archer King         10.0\n",
       "4                            The Architects of Hyperspace         10.0\n",
       "...                                                   ...          ...\n",
       "135999  The New Beverly Hills Diet: The latest weight-...          1.0\n",
       "136000  Let's Go 2000: Europe: The World's Bestselling...          1.0\n",
       "136001                        Rencontre au bord du fleuve          1.0\n",
       "136002  Honey for a Child's Heart: The Imaginative Use...          1.0\n",
       "136003  I Hate the Dallas Cowboys: And Who Elected The...          1.0\n",
       "\n",
       "[136004 rows x 2 columns]"
      ]
     },
     "execution_count": 20,
     "metadata": {},
     "output_type": "execute_result"
    }
   ],
   "source": [
    "avg_rating = (\n",
    "    ratings_books[[\"title\", \"book_rating\"]]\n",
    "    .groupby([\"title\"])\n",
    "    .agg({\"book_rating\": \"mean\"})\n",
    "    .sort_values(by=\"book_rating\", ascending=False)\n",
    ")\n",
    "avg_rating.reset_index()"
   ]
  },
  {
   "attachments": {},
   "cell_type": "markdown",
   "metadata": {},
   "source": [
    "Books that are too few in number can end up skewing ratings at both ends.\n"
   ]
  },
  {
   "cell_type": "code",
   "execution_count": 21,
   "metadata": {},
   "outputs": [
    {
     "data": {
      "text/plain": [
       "1"
      ]
     },
     "execution_count": 21,
     "metadata": {},
     "output_type": "execute_result"
    }
   ],
   "source": [
    "(\n",
    "    ratings_books[\"title\"]\n",
    "    == \"I Hate the Dallas Cowboys: And Who Elected Them America's Team Anyway?\"\n",
    ").sum()"
   ]
  },
  {
   "cell_type": "code",
   "execution_count": 22,
   "metadata": {},
   "outputs": [
    {
     "data": {
      "text/plain": [
       "1"
      ]
     },
     "execution_count": 22,
     "metadata": {},
     "output_type": "execute_result"
    }
   ],
   "source": [
    "(\n",
    "    ratings_books[\"title\"]\n",
    "    == \"Molly's Surprise: A Christmas Story, Book Three (The American Girls Collection)\"\n",
    ").sum()"
   ]
  },
  {
   "attachments": {},
   "cell_type": "markdown",
   "metadata": {},
   "source": [
    "### Filtering\n",
    "\n",
    "1. Filter out books with fewer than 10 reviews\n",
    "2. Filter out books with under-represented languages\n",
    "3. Filter out users with fewer than 5 reviews\n"
   ]
  },
  {
   "cell_type": "code",
   "execution_count": 23,
   "metadata": {},
   "outputs": [],
   "source": [
    "freq = ratings_books[\"title\"].value_counts()\n",
    "frequently_reviewed = freq[freq > 10].index\n"
   ]
  },
  {
   "cell_type": "code",
   "execution_count": 24,
   "metadata": {},
   "outputs": [],
   "source": [
    "books_df = ratings_books[ratings_books[\"title\"].isin(frequently_reviewed)]\n"
   ]
  },
  {
   "cell_type": "code",
   "execution_count": 25,
   "metadata": {},
   "outputs": [
    {
     "data": {
      "text/plain": [
       "title                                                                    \n",
       "The Lovely Bones                                                             754\n",
       "Harry Potter and the Sorcerer's Stone                                        629\n",
       "Wild Animus: A Novel                                                         581\n",
       "A Painted House                                                              562\n",
       "Snow Falling on Cedars                                                       532\n",
       "                                                                            ... \n",
       "Gone With the Wind                                                            11\n",
       "The Blue Flower                                                               11\n",
       "The Blue Day Book: A Lesson in Cheering Yourself Up                           11\n",
       "Chicks in Chainmail                                                           11\n",
       "Stupid White Men: ...And Other Sorry Excuses for the State of the Nation!     11\n",
       "Name: count, Length: 5128, dtype: int64"
      ]
     },
     "execution_count": 25,
     "metadata": {},
     "output_type": "execute_result"
    }
   ],
   "source": [
    "books_df[[\"title\"]].value_counts()\n"
   ]
  },
  {
   "cell_type": "code",
   "execution_count": 26,
   "metadata": {},
   "outputs": [
    {
     "data": {
      "text/plain": [
       "language\n",
       "en       154856\n",
       "de         1223\n",
       "es          361\n",
       "fr          262\n",
       "it          195\n",
       "en_US         8\n",
       "ru            2\n",
       "hi            1\n",
       "Name: count, dtype: int64"
      ]
     },
     "execution_count": 26,
     "metadata": {},
     "output_type": "execute_result"
    }
   ],
   "source": [
    "books_df[\"language\"].value_counts()\n"
   ]
  },
  {
   "cell_type": "code",
   "execution_count": 27,
   "metadata": {},
   "outputs": [],
   "source": [
    "books_df.loc[books_df[\"language\"] == \"en_US\", \"language\"] = \"en\"\n"
   ]
  },
  {
   "cell_type": "code",
   "execution_count": 28,
   "metadata": {},
   "outputs": [
    {
     "data": {
      "text/plain": [
       "language\n",
       "en    154864\n",
       "de      1223\n",
       "es       361\n",
       "fr       262\n",
       "it       195\n",
       "ru         2\n",
       "hi         1\n",
       "Name: count, dtype: int64"
      ]
     },
     "execution_count": 28,
     "metadata": {},
     "output_type": "execute_result"
    }
   ],
   "source": [
    "books_df[\"language\"].value_counts()\n"
   ]
  },
  {
   "cell_type": "code",
   "execution_count": 29,
   "metadata": {},
   "outputs": [],
   "source": [
    "minor_langs = books_df.loc[\n",
    "    (books_df[\"language\"] == \"ru\") | (books_df[\"language\"] == \"hi\")\n",
    "].index"
   ]
  },
  {
   "cell_type": "code",
   "execution_count": 30,
   "metadata": {},
   "outputs": [],
   "source": [
    "books_df = books_df.drop(minor_langs, axis=0)\n"
   ]
  },
  {
   "cell_type": "code",
   "execution_count": 31,
   "metadata": {},
   "outputs": [
    {
     "data": {
      "text/plain": [
       "language\n",
       "en    154864\n",
       "de      1223\n",
       "es       361\n",
       "fr       262\n",
       "it       195\n",
       "Name: count, dtype: int64"
      ]
     },
     "execution_count": 31,
     "metadata": {},
     "output_type": "execute_result"
    }
   ],
   "source": [
    "books_df[\"language\"].value_counts()\n"
   ]
  },
  {
   "cell_type": "code",
   "execution_count": 32,
   "metadata": {},
   "outputs": [],
   "source": [
    "usr_freq = books_df[\"user_id\"].value_counts()\n",
    "freq_raters = usr_freq[usr_freq > 5].index\n"
   ]
  },
  {
   "cell_type": "code",
   "execution_count": 33,
   "metadata": {},
   "outputs": [],
   "source": [
    "books_df = books_df[books_df[\"user_id\"].isin(freq_raters)]\n"
   ]
  },
  {
   "attachments": {},
   "cell_type": "markdown",
   "metadata": {},
   "source": [
    "#### Average rating of remaining books\n"
   ]
  },
  {
   "cell_type": "code",
   "execution_count": 34,
   "metadata": {},
   "outputs": [
    {
     "data": {
      "text/html": [
       "<div>\n",
       "<style scoped>\n",
       "    .dataframe tbody tr th:only-of-type {\n",
       "        vertical-align: middle;\n",
       "    }\n",
       "\n",
       "    .dataframe tbody tr th {\n",
       "        vertical-align: top;\n",
       "    }\n",
       "\n",
       "    .dataframe thead th {\n",
       "        text-align: right;\n",
       "    }\n",
       "</style>\n",
       "<table border=\"1\" class=\"dataframe\">\n",
       "  <thead>\n",
       "    <tr style=\"text-align: right;\">\n",
       "      <th></th>\n",
       "      <th>title</th>\n",
       "      <th>book_rating</th>\n",
       "    </tr>\n",
       "  </thead>\n",
       "  <tbody>\n",
       "    <tr>\n",
       "      <th>0</th>\n",
       "      <td>Postmarked Yesteryear: 30 Rare Holiday Postcards</td>\n",
       "      <td>10.000000</td>\n",
       "    </tr>\n",
       "    <tr>\n",
       "      <th>1</th>\n",
       "      <td>Liebesleben (German Edition)</td>\n",
       "      <td>10.000000</td>\n",
       "    </tr>\n",
       "    <tr>\n",
       "      <th>2</th>\n",
       "      <td>The Secret Daughter: Raising Cane, Book 2 (Har...</td>\n",
       "      <td>10.000000</td>\n",
       "    </tr>\n",
       "    <tr>\n",
       "      <th>3</th>\n",
       "      <td>Purple Cow: Transform Your Business by Being R...</td>\n",
       "      <td>10.000000</td>\n",
       "    </tr>\n",
       "    <tr>\n",
       "      <th>4</th>\n",
       "      <td>Dilbert: A Book of Postcards</td>\n",
       "      <td>9.923077</td>\n",
       "    </tr>\n",
       "    <tr>\n",
       "      <th>...</th>\n",
       "      <td>...</td>\n",
       "      <td>...</td>\n",
       "    </tr>\n",
       "    <tr>\n",
       "      <th>5111</th>\n",
       "      <td>The Coldest Winter Ever</td>\n",
       "      <td>4.666667</td>\n",
       "    </tr>\n",
       "    <tr>\n",
       "      <th>5112</th>\n",
       "      <td>Wild Animus: A Novel</td>\n",
       "      <td>4.036364</td>\n",
       "    </tr>\n",
       "    <tr>\n",
       "      <th>5113</th>\n",
       "      <td>Confessions of a Sociopathic Social Climber: T...</td>\n",
       "      <td>3.923077</td>\n",
       "    </tr>\n",
       "    <tr>\n",
       "      <th>5114</th>\n",
       "      <td>Le Crime de L'Orient-Express (Le Livre de Poch...</td>\n",
       "      <td>3.000000</td>\n",
       "    </tr>\n",
       "    <tr>\n",
       "      <th>5115</th>\n",
       "      <td>El código Da Vinci (Spanish Edition)</td>\n",
       "      <td>3.000000</td>\n",
       "    </tr>\n",
       "  </tbody>\n",
       "</table>\n",
       "<p>5116 rows × 2 columns</p>\n",
       "</div>"
      ],
      "text/plain": [
       "                                                  title  book_rating\n",
       "0      Postmarked Yesteryear: 30 Rare Holiday Postcards    10.000000\n",
       "1                          Liebesleben (German Edition)    10.000000\n",
       "2     The Secret Daughter: Raising Cane, Book 2 (Har...    10.000000\n",
       "3     Purple Cow: Transform Your Business by Being R...    10.000000\n",
       "4                          Dilbert: A Book of Postcards     9.923077\n",
       "...                                                 ...          ...\n",
       "5111                            The Coldest Winter Ever     4.666667\n",
       "5112                               Wild Animus: A Novel     4.036364\n",
       "5113  Confessions of a Sociopathic Social Climber: T...     3.923077\n",
       "5114  Le Crime de L'Orient-Express (Le Livre de Poch...     3.000000\n",
       "5115               El código Da Vinci (Spanish Edition)     3.000000\n",
       "\n",
       "[5116 rows x 2 columns]"
      ]
     },
     "execution_count": 34,
     "metadata": {},
     "output_type": "execute_result"
    }
   ],
   "source": [
    "avg_remain = (\n",
    "    books_df[[\"title\", \"book_rating\"]]\n",
    "    .groupby([\"title\"])\n",
    "    .agg({\"book_rating\": \"mean\"})\n",
    "    .sort_values(by=\"book_rating\", ascending=False)\n",
    ")\n",
    "avg_remain.reset_index()"
   ]
  },
  {
   "attachments": {},
   "cell_type": "markdown",
   "metadata": {},
   "source": [
    "#### V\n"
   ]
  },
  {
   "cell_type": "code",
   "execution_count": 35,
   "metadata": {},
   "outputs": [
    {
     "data": {
      "text/html": [
       "<div>\n",
       "<style scoped>\n",
       "    .dataframe tbody tr th:only-of-type {\n",
       "        vertical-align: middle;\n",
       "    }\n",
       "\n",
       "    .dataframe tbody tr th {\n",
       "        vertical-align: top;\n",
       "    }\n",
       "\n",
       "    .dataframe thead th {\n",
       "        text-align: right;\n",
       "    }\n",
       "</style>\n",
       "<table border=\"1\" class=\"dataframe\">\n",
       "  <thead>\n",
       "    <tr style=\"text-align: right;\">\n",
       "      <th></th>\n",
       "      <th>title</th>\n",
       "      <th>num_ratings</th>\n",
       "    </tr>\n",
       "  </thead>\n",
       "  <tbody>\n",
       "    <tr>\n",
       "      <th>1649</th>\n",
       "      <td>Harry Potter and the Sorcerer's Stone</td>\n",
       "      <td>390</td>\n",
       "    </tr>\n",
       "    <tr>\n",
       "      <th>4122</th>\n",
       "      <td>The Lovely Bones</td>\n",
       "      <td>372</td>\n",
       "    </tr>\n",
       "    <tr>\n",
       "      <th>1647</th>\n",
       "      <td>Harry Potter and the Order of the Phoenix (Boo...</td>\n",
       "      <td>321</td>\n",
       "    </tr>\n",
       "    <tr>\n",
       "      <th>134</th>\n",
       "      <td>A Painted House</td>\n",
       "      <td>314</td>\n",
       "    </tr>\n",
       "    <tr>\n",
       "      <th>3843</th>\n",
       "      <td>The Firm</td>\n",
       "      <td>299</td>\n",
       "    </tr>\n",
       "    <tr>\n",
       "      <th>...</th>\n",
       "      <td>...</td>\n",
       "      <td>...</td>\n",
       "    </tr>\n",
       "    <tr>\n",
       "      <th>2556</th>\n",
       "      <td>Novecento: Un Monologo (Universale Economica F...</td>\n",
       "      <td>1</td>\n",
       "    </tr>\n",
       "    <tr>\n",
       "      <th>1464</th>\n",
       "      <td>Free</td>\n",
       "      <td>1</td>\n",
       "    </tr>\n",
       "    <tr>\n",
       "      <th>1473</th>\n",
       "      <td>Friedhof der Kuscheltiere. Roman.</td>\n",
       "      <td>1</td>\n",
       "    </tr>\n",
       "    <tr>\n",
       "      <th>4695</th>\n",
       "      <td>Theos Reise. Roman über die Religionen der Welt.</td>\n",
       "      <td>1</td>\n",
       "    </tr>\n",
       "    <tr>\n",
       "      <th>4922</th>\n",
       "      <td>Warum MÃ?Â¤nner nicht zuhÃ?Â¶ren und Frauen sc...</td>\n",
       "      <td>1</td>\n",
       "    </tr>\n",
       "  </tbody>\n",
       "</table>\n",
       "<p>5116 rows × 2 columns</p>\n",
       "</div>"
      ],
      "text/plain": [
       "                                                  title  num_ratings\n",
       "1649              Harry Potter and the Sorcerer's Stone          390\n",
       "4122                                   The Lovely Bones          372\n",
       "1647  Harry Potter and the Order of the Phoenix (Boo...          321\n",
       "134                                     A Painted House          314\n",
       "3843                                           The Firm          299\n",
       "...                                                 ...          ...\n",
       "2556  Novecento: Un Monologo (Universale Economica F...            1\n",
       "1464                                               Free            1\n",
       "1473                  Friedhof der Kuscheltiere. Roman.            1\n",
       "4695   Theos Reise. Roman über die Religionen der Welt.            1\n",
       "4922  Warum MÃ?Â¤nner nicht zuhÃ?Â¶ren und Frauen sc...            1\n",
       "\n",
       "[5116 rows x 2 columns]"
      ]
     },
     "execution_count": 35,
     "metadata": {},
     "output_type": "execute_result"
    }
   ],
   "source": [
    "grouped = books_df.groupby(\"title\")[[\"book_rating\"]].agg(\n",
    "    {\"book_rating\": [(\"num_ratings\", \"count\")]}\n",
    ")\n",
    "grouped.columns = grouped.columns.droplevel()\n",
    "grouped = grouped.reset_index().sort_values(by=\"num_ratings\", ascending=False)\n",
    "grouped"
   ]
  },
  {
   "attachments": {},
   "cell_type": "markdown",
   "metadata": {},
   "source": [
    "### Non-Personalized Recommendations\n"
   ]
  },
  {
   "cell_type": "code",
   "execution_count": 36,
   "metadata": {},
   "outputs": [],
   "source": [
    "from itertools import permutations\n",
    "import pandas as pd\n"
   ]
  },
  {
   "cell_type": "code",
   "execution_count": 37,
   "metadata": {},
   "outputs": [],
   "source": [
    "def create_pairs(col) -> ddf:\n",
    "    \"\"\"Return a dataframe with a pair of books that are frequently read together and the number of pairs observed\n",
    "\n",
    "    Args:\n",
    "        col (_type_): column\n",
    "\n",
    "    Returns:\n",
    "        ddf: pandas dataframe\n",
    "    \"\"\"\n",
    "    pairs = pd.DataFrame(list(permutations(col, 2)), columns=[\"book_a\", \"book_b\"])\n",
    "    return pairs"
   ]
  },
  {
   "cell_type": "code",
   "execution_count": 38,
   "metadata": {},
   "outputs": [],
   "source": [
    "book_pairs = books_df.groupby(\"user_id\")[\"title\"].apply(create_pairs)\n"
   ]
  },
  {
   "cell_type": "code",
   "execution_count": 39,
   "metadata": {},
   "outputs": [
    {
     "data": {
      "text/html": [
       "<div>\n",
       "<style scoped>\n",
       "    .dataframe tbody tr th:only-of-type {\n",
       "        vertical-align: middle;\n",
       "    }\n",
       "\n",
       "    .dataframe tbody tr th {\n",
       "        vertical-align: top;\n",
       "    }\n",
       "\n",
       "    .dataframe thead th {\n",
       "        text-align: right;\n",
       "    }\n",
       "</style>\n",
       "<table border=\"1\" class=\"dataframe\">\n",
       "  <thead>\n",
       "    <tr style=\"text-align: right;\">\n",
       "      <th></th>\n",
       "      <th>book_a</th>\n",
       "      <th>book_b</th>\n",
       "    </tr>\n",
       "  </thead>\n",
       "  <tbody>\n",
       "    <tr>\n",
       "      <th>0</th>\n",
       "      <td>Angels &amp; Demons</td>\n",
       "      <td>The Beach House</td>\n",
       "    </tr>\n",
       "    <tr>\n",
       "      <th>1</th>\n",
       "      <td>Angels &amp; Demons</td>\n",
       "      <td>The Alibi</td>\n",
       "    </tr>\n",
       "    <tr>\n",
       "      <th>2</th>\n",
       "      <td>Angels &amp; Demons</td>\n",
       "      <td>A Kiss Remembered</td>\n",
       "    </tr>\n",
       "    <tr>\n",
       "      <th>3</th>\n",
       "      <td>Angels &amp; Demons</td>\n",
       "      <td>The Short Forever (A Stone Barrington Novel)</td>\n",
       "    </tr>\n",
       "    <tr>\n",
       "      <th>4</th>\n",
       "      <td>Angels &amp; Demons</td>\n",
       "      <td>Dead Aim</td>\n",
       "    </tr>\n",
       "  </tbody>\n",
       "</table>\n",
       "</div>"
      ],
      "text/plain": [
       "            book_a                                        book_b\n",
       "0  Angels & Demons                               The Beach House\n",
       "1  Angels & Demons                                     The Alibi\n",
       "2  Angels & Demons                             A Kiss Remembered\n",
       "3  Angels & Demons  The Short Forever (A Stone Barrington Novel)\n",
       "4  Angels & Demons                                      Dead Aim"
      ]
     },
     "execution_count": 39,
     "metadata": {},
     "output_type": "execute_result"
    }
   ],
   "source": [
    "book_pairs = book_pairs.reset_index(drop=True)\n",
    "book_pairs.head()\n"
   ]
  },
  {
   "cell_type": "code",
   "execution_count": 40,
   "metadata": {},
   "outputs": [],
   "source": [
    "pair_counts = book_pairs.groupby([\"book_a\", \"book_b\"]).size()\n"
   ]
  },
  {
   "cell_type": "code",
   "execution_count": 41,
   "metadata": {},
   "outputs": [],
   "source": [
    "pair_counts_df = (\n",
    "    pair_counts.to_frame(name=\"size\")\n",
    "    .reset_index()\n",
    "    .sort_values(by=\"size\", ascending=False)\n",
    ")"
   ]
  },
  {
   "cell_type": "code",
   "execution_count": 42,
   "metadata": {},
   "outputs": [],
   "source": [
    "true_pairs = pair_counts_df[pair_counts_df[\"book_a\"] != pair_counts_df[\"book_b\"]]\n"
   ]
  },
  {
   "cell_type": "code",
   "execution_count": 43,
   "metadata": {},
   "outputs": [
    {
     "data": {
      "text/html": [
       "<div>\n",
       "<style scoped>\n",
       "    .dataframe tbody tr th:only-of-type {\n",
       "        vertical-align: middle;\n",
       "    }\n",
       "\n",
       "    .dataframe tbody tr th {\n",
       "        vertical-align: top;\n",
       "    }\n",
       "\n",
       "    .dataframe thead th {\n",
       "        text-align: right;\n",
       "    }\n",
       "</style>\n",
       "<table border=\"1\" class=\"dataframe\">\n",
       "  <thead>\n",
       "    <tr style=\"text-align: right;\">\n",
       "      <th></th>\n",
       "      <th>book_a</th>\n",
       "      <th>book_b</th>\n",
       "      <th>size</th>\n",
       "    </tr>\n",
       "  </thead>\n",
       "  <tbody>\n",
       "    <tr>\n",
       "      <th>2025844</th>\n",
       "      <td>Harry Potter and the Order of the Phoenix (Boo...</td>\n",
       "      <td>Harry Potter And The Goblet Of Fire</td>\n",
       "      <td>175</td>\n",
       "    </tr>\n",
       "    <tr>\n",
       "      <th>2010197</th>\n",
       "      <td>Harry Potter And The Goblet Of Fire</td>\n",
       "      <td>Harry Potter and the Order of the Phoenix (Boo...</td>\n",
       "      <td>175</td>\n",
       "    </tr>\n",
       "    <tr>\n",
       "      <th>2025848</th>\n",
       "      <td>Harry Potter and the Order of the Phoenix (Boo...</td>\n",
       "      <td>Harry Potter The Illustrated 4 Books Collectio...</td>\n",
       "      <td>158</td>\n",
       "    </tr>\n",
       "    <tr>\n",
       "      <th>2019096</th>\n",
       "      <td>Harry Potter The Illustrated 4 Books Collectio...</td>\n",
       "      <td>Harry Potter and the Order of the Phoenix (Boo...</td>\n",
       "      <td>158</td>\n",
       "    </tr>\n",
       "    <tr>\n",
       "      <th>2031192</th>\n",
       "      <td>Harry Potter and the Sorcerer's Stone</td>\n",
       "      <td>Harry Potter and the Order of the Phoenix (Boo...</td>\n",
       "      <td>146</td>\n",
       "    </tr>\n",
       "  </tbody>\n",
       "</table>\n",
       "</div>"
      ],
      "text/plain": [
       "                                                    book_a   \n",
       "2025844  Harry Potter and the Order of the Phoenix (Boo...  \\\n",
       "2010197                Harry Potter And The Goblet Of Fire   \n",
       "2025848  Harry Potter and the Order of the Phoenix (Boo...   \n",
       "2019096  Harry Potter The Illustrated 4 Books Collectio...   \n",
       "2031192              Harry Potter and the Sorcerer's Stone   \n",
       "\n",
       "                                                    book_b  size  \n",
       "2025844                Harry Potter And The Goblet Of Fire   175  \n",
       "2010197  Harry Potter and the Order of the Phoenix (Boo...   175  \n",
       "2025848  Harry Potter The Illustrated 4 Books Collectio...   158  \n",
       "2019096  Harry Potter and the Order of the Phoenix (Boo...   158  \n",
       "2031192  Harry Potter and the Order of the Phoenix (Boo...   146  "
      ]
     },
     "execution_count": 43,
     "metadata": {},
     "output_type": "execute_result"
    }
   ],
   "source": [
    "true_pairs.head()\n"
   ]
  },
  {
   "cell_type": "code",
   "execution_count": 44,
   "metadata": {},
   "outputs": [
    {
     "data": {
      "text/html": [
       "<div>\n",
       "<style scoped>\n",
       "    .dataframe tbody tr th:only-of-type {\n",
       "        vertical-align: middle;\n",
       "    }\n",
       "\n",
       "    .dataframe tbody tr th {\n",
       "        vertical-align: top;\n",
       "    }\n",
       "\n",
       "    .dataframe thead th {\n",
       "        text-align: right;\n",
       "    }\n",
       "</style>\n",
       "<table border=\"1\" class=\"dataframe\">\n",
       "  <thead>\n",
       "    <tr style=\"text-align: right;\">\n",
       "      <th></th>\n",
       "      <th>book_a</th>\n",
       "      <th>book_b</th>\n",
       "      <th>size</th>\n",
       "    </tr>\n",
       "  </thead>\n",
       "  <tbody>\n",
       "    <tr>\n",
       "      <th>2010197</th>\n",
       "      <td>Harry Potter And The Goblet Of Fire</td>\n",
       "      <td>Harry Potter and the Order of the Phoenix (Boo...</td>\n",
       "      <td>175</td>\n",
       "    </tr>\n",
       "    <tr>\n",
       "      <th>2010195</th>\n",
       "      <td>Harry Potter And The Goblet Of Fire</td>\n",
       "      <td>Harry Potter The Illustrated 4 Books Collectio...</td>\n",
       "      <td>129</td>\n",
       "    </tr>\n",
       "    <tr>\n",
       "      <th>2010199</th>\n",
       "      <td>Harry Potter And The Goblet Of Fire</td>\n",
       "      <td>Harry Potter and the Sorcerer's Stone</td>\n",
       "      <td>113</td>\n",
       "    </tr>\n",
       "    <tr>\n",
       "      <th>2010192</th>\n",
       "      <td>Harry Potter And The Goblet Of Fire</td>\n",
       "      <td>Harry Potter And The Prisoner Of Azkaban</td>\n",
       "      <td>83</td>\n",
       "    </tr>\n",
       "    <tr>\n",
       "      <th>2010200</th>\n",
       "      <td>Harry Potter And The Goblet Of Fire</td>\n",
       "      <td>Harry Potter and the Sorcerer's Stone (1)</td>\n",
       "      <td>61</td>\n",
       "    </tr>\n",
       "    <tr>\n",
       "      <th>2010196</th>\n",
       "      <td>Harry Potter And The Goblet Of Fire</td>\n",
       "      <td>Harry Potter and the Chamber of Secrets</td>\n",
       "      <td>51</td>\n",
       "    </tr>\n",
       "    <tr>\n",
       "      <th>2011769</th>\n",
       "      <td>Harry Potter And The Goblet Of Fire</td>\n",
       "      <td>The Fellowship of the Ring (The Lord of the Ri...</td>\n",
       "      <td>33</td>\n",
       "    </tr>\n",
       "    <tr>\n",
       "      <th>2011779</th>\n",
       "      <td>Harry Potter And The Goblet Of Fire</td>\n",
       "      <td>The Firm</td>\n",
       "      <td>24</td>\n",
       "    </tr>\n",
       "    <tr>\n",
       "      <th>2011650</th>\n",
       "      <td>Harry Potter And The Goblet Of Fire</td>\n",
       "      <td>The Client</td>\n",
       "      <td>21</td>\n",
       "    </tr>\n",
       "    <tr>\n",
       "      <th>2012624</th>\n",
       "      <td>Harry Potter And The Goblet Of Fire</td>\n",
       "      <td>Where the Heart Is</td>\n",
       "      <td>21</td>\n",
       "    </tr>\n",
       "  </tbody>\n",
       "</table>\n",
       "</div>"
      ],
      "text/plain": [
       "                                      book_a   \n",
       "2010197  Harry Potter And The Goblet Of Fire  \\\n",
       "2010195  Harry Potter And The Goblet Of Fire   \n",
       "2010199  Harry Potter And The Goblet Of Fire   \n",
       "2010192  Harry Potter And The Goblet Of Fire   \n",
       "2010200  Harry Potter And The Goblet Of Fire   \n",
       "2010196  Harry Potter And The Goblet Of Fire   \n",
       "2011769  Harry Potter And The Goblet Of Fire   \n",
       "2011779  Harry Potter And The Goblet Of Fire   \n",
       "2011650  Harry Potter And The Goblet Of Fire   \n",
       "2012624  Harry Potter And The Goblet Of Fire   \n",
       "\n",
       "                                                    book_b  size  \n",
       "2010197  Harry Potter and the Order of the Phoenix (Boo...   175  \n",
       "2010195  Harry Potter The Illustrated 4 Books Collectio...   129  \n",
       "2010199              Harry Potter and the Sorcerer's Stone   113  \n",
       "2010192           Harry Potter And The Prisoner Of Azkaban    83  \n",
       "2010200          Harry Potter and the Sorcerer's Stone (1)    61  \n",
       "2010196            Harry Potter and the Chamber of Secrets    51  \n",
       "2011769  The Fellowship of the Ring (The Lord of the Ri...    33  \n",
       "2011779                                           The Firm    24  \n",
       "2011650                                         The Client    21  \n",
       "2012624                                 Where the Heart Is    21  "
      ]
     },
     "execution_count": 44,
     "metadata": {},
     "output_type": "execute_result"
    }
   ],
   "source": [
    "harry_potter = true_pairs[\n",
    "    true_pairs[\"book_a\"] == \"Harry Potter And The Goblet Of Fire\"\n",
    "].nlargest(10, \"size\")\n",
    "harry_potter"
   ]
  },
  {
   "attachments": {},
   "cell_type": "markdown",
   "metadata": {},
   "source": [
    "### Serialize columns\n"
   ]
  },
  {
   "cell_type": "code",
   "execution_count": 45,
   "metadata": {},
   "outputs": [],
   "source": [
    "books_df.user_id = pd.Categorical(books_df.user_id)\n",
    "books_df[\"userId\"] = books_df.user_id.cat.codes\n"
   ]
  },
  {
   "cell_type": "code",
   "execution_count": 46,
   "metadata": {},
   "outputs": [],
   "source": [
    "books_df.isbn13 = pd.Categorical(books_df.isbn13)\n",
    "books_df[\"bookId\"] = books_df.isbn13.cat.codes\n"
   ]
  },
  {
   "cell_type": "code",
   "execution_count": 47,
   "metadata": {},
   "outputs": [],
   "source": [
    "books_df = books_df.rename(columns={\"book_rating\": \"rating\"})"
   ]
  },
  {
   "cell_type": "code",
   "execution_count": 48,
   "metadata": {},
   "outputs": [
    {
     "data": {
      "text/html": [
       "<div>\n",
       "<style scoped>\n",
       "    .dataframe tbody tr th:only-of-type {\n",
       "        vertical-align: middle;\n",
       "    }\n",
       "\n",
       "    .dataframe tbody tr th {\n",
       "        vertical-align: top;\n",
       "    }\n",
       "\n",
       "    .dataframe thead th {\n",
       "        text-align: right;\n",
       "    }\n",
       "</style>\n",
       "<table border=\"1\" class=\"dataframe\">\n",
       "  <thead>\n",
       "    <tr style=\"text-align: right;\">\n",
       "      <th></th>\n",
       "      <th>user_id</th>\n",
       "      <th>isbn13</th>\n",
       "      <th>title</th>\n",
       "      <th>authors</th>\n",
       "      <th>publisher</th>\n",
       "      <th>language</th>\n",
       "      <th>rating</th>\n",
       "      <th>userId</th>\n",
       "      <th>bookId</th>\n",
       "    </tr>\n",
       "  </thead>\n",
       "  <tbody>\n",
       "    <tr>\n",
       "      <th>4</th>\n",
       "      <td>11676</td>\n",
       "      <td>9780385501200</td>\n",
       "      <td>A Painted House: A Novel</td>\n",
       "      <td>['Grisham, John']</td>\n",
       "      <td>Doubleday</td>\n",
       "      <td>en</td>\n",
       "      <td>10</td>\n",
       "      <td>179</td>\n",
       "      <td>2872</td>\n",
       "    </tr>\n",
       "    <tr>\n",
       "      <th>5</th>\n",
       "      <td>16877</td>\n",
       "      <td>9780385501200</td>\n",
       "      <td>A Painted House: A Novel</td>\n",
       "      <td>['Grisham, John']</td>\n",
       "      <td>Doubleday</td>\n",
       "      <td>en</td>\n",
       "      <td>9</td>\n",
       "      <td>277</td>\n",
       "      <td>2872</td>\n",
       "    </tr>\n",
       "    <tr>\n",
       "      <th>9</th>\n",
       "      <td>21356</td>\n",
       "      <td>9780385501200</td>\n",
       "      <td>A Painted House: A Novel</td>\n",
       "      <td>['Grisham, John']</td>\n",
       "      <td>Doubleday</td>\n",
       "      <td>en</td>\n",
       "      <td>7</td>\n",
       "      <td>358</td>\n",
       "      <td>2872</td>\n",
       "    </tr>\n",
       "    <tr>\n",
       "      <th>10</th>\n",
       "      <td>22625</td>\n",
       "      <td>9780385501200</td>\n",
       "      <td>A Painted House: A Novel</td>\n",
       "      <td>['Grisham, John']</td>\n",
       "      <td>Doubleday</td>\n",
       "      <td>en</td>\n",
       "      <td>10</td>\n",
       "      <td>382</td>\n",
       "      <td>2872</td>\n",
       "    </tr>\n",
       "    <tr>\n",
       "      <th>13</th>\n",
       "      <td>31315</td>\n",
       "      <td>9780385501200</td>\n",
       "      <td>A Painted House: A Novel</td>\n",
       "      <td>['Grisham, John']</td>\n",
       "      <td>Doubleday</td>\n",
       "      <td>en</td>\n",
       "      <td>6</td>\n",
       "      <td>585</td>\n",
       "      <td>2872</td>\n",
       "    </tr>\n",
       "    <tr>\n",
       "      <th>...</th>\n",
       "      <td>...</td>\n",
       "      <td>...</td>\n",
       "      <td>...</td>\n",
       "      <td>...</td>\n",
       "      <td>...</td>\n",
       "      <td>...</td>\n",
       "      <td>...</td>\n",
       "      <td>...</td>\n",
       "      <td>...</td>\n",
       "    </tr>\n",
       "    <tr>\n",
       "      <th>388054</th>\n",
       "      <td>274301</td>\n",
       "      <td>9780449000724</td>\n",
       "      <td>Sarum: The Novel of England</td>\n",
       "      <td>['Rutherfurd, Edward']</td>\n",
       "      <td>Ballantine Books</td>\n",
       "      <td>en</td>\n",
       "      <td>10</td>\n",
       "      <td>5249</td>\n",
       "      <td>4458</td>\n",
       "    </tr>\n",
       "    <tr>\n",
       "      <th>388203</th>\n",
       "      <td>274808</td>\n",
       "      <td>9780590396561</td>\n",
       "      <td>Cold Fire</td>\n",
       "      <td>['Pierce, Tamora']</td>\n",
       "      <td>Scholastic Paperbacks</td>\n",
       "      <td>en</td>\n",
       "      <td>8</td>\n",
       "      <td>5259</td>\n",
       "      <td>6091</td>\n",
       "    </tr>\n",
       "    <tr>\n",
       "      <th>388459</th>\n",
       "      <td>275970</td>\n",
       "      <td>9781586210663</td>\n",
       "      <td>Me Talk Pretty One Day</td>\n",
       "      <td>['Sedaris, David']</td>\n",
       "      <td>Grand Central Publishing</td>\n",
       "      <td>en</td>\n",
       "      <td>9</td>\n",
       "      <td>5281</td>\n",
       "      <td>9030</td>\n",
       "    </tr>\n",
       "    <tr>\n",
       "      <th>388550</th>\n",
       "      <td>276463</td>\n",
       "      <td>9780141304670</td>\n",
       "      <td>James and the Giant Peach</td>\n",
       "      <td>['Dahl, Roald']</td>\n",
       "      <td>Puffin</td>\n",
       "      <td>en</td>\n",
       "      <td>10</td>\n",
       "      <td>5291</td>\n",
       "      <td>1020</td>\n",
       "    </tr>\n",
       "    <tr>\n",
       "      <th>388594</th>\n",
       "      <td>276563</td>\n",
       "      <td>9780027197105</td>\n",
       "      <td>The Cat Who Went to Heaven</td>\n",
       "      <td>['Coatsworth, Elizabeth']</td>\n",
       "      <td>Simon &amp; Schuster Books for Young Readers</td>\n",
       "      <td>en</td>\n",
       "      <td>10</td>\n",
       "      <td>5293</td>\n",
       "      <td>49</td>\n",
       "    </tr>\n",
       "  </tbody>\n",
       "</table>\n",
       "<p>98451 rows × 9 columns</p>\n",
       "</div>"
      ],
      "text/plain": [
       "       user_id         isbn13                        title   \n",
       "4        11676  9780385501200     A Painted House: A Novel  \\\n",
       "5        16877  9780385501200     A Painted House: A Novel   \n",
       "9        21356  9780385501200     A Painted House: A Novel   \n",
       "10       22625  9780385501200     A Painted House: A Novel   \n",
       "13       31315  9780385501200     A Painted House: A Novel   \n",
       "...        ...            ...                          ...   \n",
       "388054  274301  9780449000724  Sarum: The Novel of England   \n",
       "388203  274808  9780590396561                    Cold Fire   \n",
       "388459  275970  9781586210663       Me Talk Pretty One Day   \n",
       "388550  276463  9780141304670    James and the Giant Peach   \n",
       "388594  276563  9780027197105   The Cat Who Went to Heaven   \n",
       "\n",
       "                          authors                                 publisher   \n",
       "4               ['Grisham, John']                                 Doubleday  \\\n",
       "5               ['Grisham, John']                                 Doubleday   \n",
       "9               ['Grisham, John']                                 Doubleday   \n",
       "10              ['Grisham, John']                                 Doubleday   \n",
       "13              ['Grisham, John']                                 Doubleday   \n",
       "...                           ...                                       ...   \n",
       "388054     ['Rutherfurd, Edward']                          Ballantine Books   \n",
       "388203         ['Pierce, Tamora']                     Scholastic Paperbacks   \n",
       "388459         ['Sedaris, David']                  Grand Central Publishing   \n",
       "388550            ['Dahl, Roald']                                    Puffin   \n",
       "388594  ['Coatsworth, Elizabeth']  Simon & Schuster Books for Young Readers   \n",
       "\n",
       "       language  rating  userId  bookId  \n",
       "4            en      10     179    2872  \n",
       "5            en       9     277    2872  \n",
       "9            en       7     358    2872  \n",
       "10           en      10     382    2872  \n",
       "13           en       6     585    2872  \n",
       "...         ...     ...     ...     ...  \n",
       "388054       en      10    5249    4458  \n",
       "388203       en       8    5259    6091  \n",
       "388459       en       9    5281    9030  \n",
       "388550       en      10    5291    1020  \n",
       "388594       en      10    5293      49  \n",
       "\n",
       "[98451 rows x 9 columns]"
      ]
     },
     "execution_count": 48,
     "metadata": {},
     "output_type": "execute_result"
    }
   ],
   "source": [
    "books_df\n"
   ]
  },
  {
   "cell_type": "code",
   "execution_count": 49,
   "metadata": {},
   "outputs": [],
   "source": [
    "clean_df = books_df.loc[:, [\"userId\", \"bookId\", \"title\", \"language\", \"rating\"]]\n"
   ]
  },
  {
   "attachments": {},
   "cell_type": "markdown",
   "metadata": {},
   "source": [
    "### Save to Parquet\n"
   ]
  },
  {
   "cell_type": "code",
   "execution_count": 50,
   "metadata": {},
   "outputs": [],
   "source": [
    "clean_df.to_parquet(\"work_df.parquet\", index=False)\n"
   ]
  },
  {
   "cell_type": "code",
   "execution_count": 51,
   "metadata": {},
   "outputs": [],
   "source": [
    "client.close()\n"
   ]
  }
 ],
 "metadata": {
  "kernelspec": {
   "display_name": ".venv",
   "language": "python",
   "name": "python3"
  },
  "language_info": {
   "codemirror_mode": {
    "name": "ipython",
    "version": 3
   },
   "file_extension": ".py",
   "mimetype": "text/x-python",
   "name": "python",
   "nbconvert_exporter": "python",
   "pygments_lexer": "ipython3",
   "version": "3.11.3"
  },
  "orig_nbformat": 4
 },
 "nbformat": 4,
 "nbformat_minor": 2
}
